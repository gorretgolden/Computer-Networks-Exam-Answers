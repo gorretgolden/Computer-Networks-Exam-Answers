{
 "cells": [
  {
   "cell_type": "markdown",
   "metadata": {},
   "source": [
    "<h3>NETWORKING DEVICES</h3>"
   ]
  },
  {
   "cell_type": "markdown",
   "metadata": {},
   "source": [
    "<h4>Hub is a local area network device that operates at the physical layer and it broadcasts data to all recipients</h4>\n",
    "<h4>Switch: is a local area network device that connects network devices together and it operates at layer two (data link layer). It is an intelligent device that stores the mac addresses table and it does unicasting, by sending data to the exact recipients</h4>\n",
    "<h4>Repeater is  a layer one device( operates at the physical layer) and it regenerates signals in a local area network</h4>\n",
    "<h4>Bridge is a layer two device (data link layer) that connects two LAN segments that are running with the same protocol. It can also regenerate signals since its a combination of a repeater and MAC address reading capability</h4>\n",
    "<h4>Router is a layer three device that operates at the network layer, they forward packets/data based on the IP address, and it connects LANS with the same or different protocols together"
   ]
  },
  {
   "cell_type": "markdown",
   "metadata": {},
   "source": []
  }
 ],
 "metadata": {
  "language_info": {
   "name": "python"
  }
 },
 "nbformat": 4,
 "nbformat_minor": 2
}
