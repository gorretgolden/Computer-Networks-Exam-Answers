{
 "cells": [
  {
   "cell_type": "markdown",
   "metadata": {},
   "source": [
    "<h3>Section A</h3>"
   ]
  },
  {
   "cell_type": "markdown",
   "metadata": {},
   "source": [
    "<h4>Explain the difference between a Hub and a Switch</h4>"
   ]
  },
  {
   "cell_type": "markdown",
   "metadata": {},
   "source": [
    "<p>A  Hub is a network device that operates at the physical layer and broadcasts data to the connected network device while a Switch is a device that operates at the data layer by connecting network devices and unicasting data to the exact recipients</p>"
   ]
  },
  {
   "cell_type": "markdown",
   "metadata": {},
   "source": [
    "<h3>Explain the concept of Bandwidth and how it impacts data transmission</h4>"
   ]
  },
  {
   "cell_type": "markdown",
   "metadata": {},
   "source": [
    "<p>Bandwidth refers to the maximum amount of data that can be transmitted over a network at a specific time measured in bits per second. It impacts data transmission in the following ways;</p>\n",
    "\n",
    "<ul>\n",
    "<li>Speed of Data Transfer, higher bandwidth means more data can be sent and received in less time, leading to faster data transmission rates.</li>\n",
    "<li>Quality of Service, insufficient bandwidth can cause buffering, lag, or delays in applications like video calls, online gaming, or streaming services. High-bandwidth connections provide smoother experiences with minimal interruptions.</li>\n",
    "<li>Simultaneous Connections, a network with limited bandwidth may struggle when multiple devices or users access the internet simultaneously. For instance, if many users are downloading large files or streaming high-definition content, it may lead to slower speeds for everyone.</li>\n",
    "</ul>\n"
   ]
  },
  {
   "cell_type": "markdown",
   "metadata": {},
   "source": [
    "<h4>Compare and Contrast IPV4 and IPV6 addressing schemes. Highlight the reasons for transitioning to IPV6</h4>"
   ]
  },
  {
   "cell_type": "markdown",
   "metadata": {},
   "source": [
    "IPv4\tIPv6\n",
    "Address Length\t32-bit (4 octets, separated by dots)\t128-bit (8 groups of 4 hexadecimal digits)\n",
    "Address Format\tExample: 192.168.1.1\tExample: 2001:0db8:85a3:0000:0000:8a2e:0370:7334\n",
    "Number of Addresses\t4.3 billion unique addresses\t~340 undecillion (vastly larger address space)\n",
    "Header Size\t20 bytes\t40 bytes\n",
    "Configuration\tOften requires manual or DHCP configuration\tAuto-configuration through stateless address autoconfiguration (SLAAC) or DHCPv6\n",
    "Security Features\tOptional (IPSec is not inherent)\tMandatory support for IPSec\n",
    "Broadcasting\tSupports broadcasting\tDoes not support broadcasting, uses multicasting and anycasting\n",
    "Fragmentation\tHandled by routers\tHandled only by the source\n",
    "Checksum\tIncludes a checksum field\tNo checksum field, relying on upper-layer protocols\n",
    "Compatibility\tWidespread usage\tGradually being adopted, backward-compatible with IPv4 via dual-stack or tunneling"
   ]
  },
  {
   "cell_type": "markdown",
   "metadata": {},
   "source": []
  }
 ],
 "metadata": {
  "language_info": {
   "name": "python"
  }
 },
 "nbformat": 4,
 "nbformat_minor": 2
}
