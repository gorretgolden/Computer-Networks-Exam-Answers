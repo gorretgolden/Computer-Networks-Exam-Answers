{
 "cells": [
  {
   "cell_type": "markdown",
   "metadata": {},
   "source": [
    "<h3>Section A</h3>"
   ]
  },
  {
   "cell_type": "markdown",
   "metadata": {},
   "source": [
    "<h4>Explain the difference between a Hub and a Switch</h4>"
   ]
  },
  {
   "cell_type": "markdown",
   "metadata": {},
   "source": [
    "<p>A  Hub is a network device that operates at the physical layer and broadcasts data to the connected network device while a Switch is a device that operates at the data layer by connecting network devices and unicasting data to the exact recipients</p>"
   ]
  },
  {
   "cell_type": "markdown",
   "metadata": {},
   "source": [
    "<h3>Explain the concept of Bandwidth and how it impacts data transmission</h4>"
   ]
  },
  {
   "cell_type": "markdown",
   "metadata": {},
   "source": [
    "<p>Bandwidth refers to the maximum amount of data that can be transmitted over a network at a specific time measured in bits per second</p>\n",
    "\n",
    "<ul>\n",
    "<li>Speed of Data Transfer, higher bandwidth means more data can be sent and received in less time, leading to faster data transmission rates.</li>\n",
    "<li>Quality of Service, insufficient bandwidth can cause buffering, lag, or delays in applications like video calls, online gaming, or streaming services. High-bandwidth connections provide smoother experiences with minimal interruptions.\n",
    "</ul>\n"
   ]
  },
  {
   "cell_type": "markdown",
   "metadata": {},
   "source": [
    "<h4>Compare and Contrast IPV4 and IPV6 addressing schemes. Highlight the reasons for transitioning to IPV6</h4>"
   ]
  },
  {
   "cell_type": "markdown",
   "metadata": {},
   "source": []
  }
 ],
 "metadata": {
  "language_info": {
   "name": "python"
  }
 },
 "nbformat": 4,
 "nbformat_minor": 2
}
